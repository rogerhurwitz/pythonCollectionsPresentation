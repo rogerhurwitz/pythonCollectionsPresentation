{
 "cells": [
  {
   "cell_type": "markdown",
   "id": "7632e774-4aa9-4d45-b078-48edb87666b9",
   "metadata": {
    "tags": []
   },
   "source": [
    "# Enhance readability"
   ]
  },
  {
   "cell_type": "code",
   "execution_count": 51,
   "id": "752fc1e3-83a0-4504-b455-9dca7d6adec9",
   "metadata": {
    "tags": []
   },
   "outputs": [],
   "source": [
    "from collections import namedtuple\n",
    "\n",
    "DivMod = namedtuple(\"DivMod\", [\"quotient\", \"remainder\"])\n",
    "\n",
    "def readable_divmod(x, y):\n",
    "    \"\"\"Return built-in divmod result as namedtuple.\"\"\"\n",
    "    dm = divmod(x, y)\n",
    "    return DivMod(quotient=dm[0], remainder=dm[1])"
   ]
  },
  {
   "cell_type": "code",
   "execution_count": 50,
   "id": "41ebe0ac-9ffc-4fe6-8866-e6d6379de70d",
   "metadata": {
    "tags": []
   },
   "outputs": [
    {
     "name": "stdout",
     "output_type": "stream",
     "text": [
      "result = DivMod(quotient=3, remainder=1)\n",
      "result.quotient = 3\n",
      "result.remainder = 1\n"
     ]
    }
   ],
   "source": [
    "result = readable_divmod(10, 3)\n",
    "print(f\"{result = }\")\n",
    "print(f\"{result.quotient = }\")\n",
    "print(f\"{result.remainder = }\")"
   ]
  },
  {
   "cell_type": "markdown",
   "id": "c387e36b-5e74-4811-bc0f-c67d86a2de70",
   "metadata": {},
   "source": [
    "# ... without losing the benefits of `tuple`"
   ]
  },
  {
   "cell_type": "code",
   "execution_count": 52,
   "id": "fc0f2e37-81e4-4852-8819-e010fd45d89e",
   "metadata": {
    "tags": []
   },
   "outputs": [
    {
     "name": "stdout",
     "output_type": "stream",
     "text": [
      "isinstance(result, tuple) = True\n",
      "result[0] = 3, result[1] = 1\n",
      "quotient = 3, remainder = 1\n"
     ]
    }
   ],
   "source": [
    "result = readable_divmod(10, 3)\n",
    "print(f\"{isinstance(result, tuple) = }\")\n",
    "print(f\"{result[0] = }, {result[1] = }\")\n",
    "quotient, remainder = result\n",
    "print(f\"{quotient = }, {remainder = }\")"
   ]
  }
 ],
 "metadata": {
  "kernelspec": {
   "display_name": "main",
   "language": "python",
   "name": "main"
  },
  "language_info": {
   "codemirror_mode": {
    "name": "ipython",
    "version": 3
   },
   "file_extension": ".py",
   "mimetype": "text/x-python",
   "name": "python",
   "nbconvert_exporter": "python",
   "pygments_lexer": "ipython3",
   "version": "3.10.2"
  }
 },
 "nbformat": 4,
 "nbformat_minor": 5
}
