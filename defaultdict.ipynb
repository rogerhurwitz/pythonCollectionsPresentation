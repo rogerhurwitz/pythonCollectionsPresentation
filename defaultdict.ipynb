{
 "cells": [
  {
   "cell_type": "code",
   "execution_count": 41,
   "id": "1e7be107-0c50-4c24-aab3-f83020d57e6c",
   "metadata": {},
   "outputs": [],
   "source": [
    "from collections import defaultdict\n",
    "\n",
    "pets = [\n",
    "    (\"cat\", \"Luna\"), (\"cat\", \"Lily\"), (\"bird\", \"Bella\"), (\"cat\", \"Lucy\"), \n",
    "    (\"cat\", \"Nala\"), (\"gerbil\", \"Callie\"), (\"cat\", \"Kitty\"), (\"cat\", \"Cleo\"), \n",
    "    (\"bird\", \"Willow\"), (\"cat\", \"Chloe\"), (\"dog\", \"Max\"), (\"gerbil\", \"Charlie\"), \n",
    "    (\"dog\", \"Cooper\"), (\"bird\", \"Milo\"), (\"dog\", \"Buddy\"), (\"bird\", \"Rocky\"), \n",
    "    (\"dog\", \"Bear\"), (\"dog\", \"Teddy\"), (\"dog\", \"Duke\"), (\"gerbil\", \"Leo\"),\n",
    "]"
   ]
  },
  {
   "cell_type": "markdown",
   "id": "0662e32d-384c-4d5f-9d23-2b11efa52081",
   "metadata": {},
   "source": [
    "# Typical Use: Initialize New Keys w/ List"
   ]
  },
  {
   "cell_type": "code",
   "execution_count": 44,
   "id": "20beede2-af4f-425c-bf0b-e83eb87b0cf1",
   "metadata": {},
   "outputs": [
    {
     "name": "stdout",
     "output_type": "stream",
     "text": [
      "pet_names_by_type['dog'] = ['Max', 'Cooper', 'Buddy', 'Bear', 'Teddy', 'Duke']\n"
     ]
    }
   ],
   "source": [
    "pet_names_by_type = defaultdict(list)\n",
    "\n",
    "for pet_type, pet_name in pets:\n",
    "    pet_names_by_type[pet_type].append(pet_name)\n",
    "\n",
    "print(f\"{pet_names_by_type['dog'] = }\")"
   ]
  },
  {
   "cell_type": "markdown",
   "id": "e8facfe4-611f-4869-9794-ea50d4199f5f",
   "metadata": {},
   "source": [
    "# `dict` Alternative: Less Readable/Efficient"
   ]
  },
  {
   "cell_type": "code",
   "execution_count": 45,
   "id": "453bde43-209b-4cb5-8ae3-d76758e55210",
   "metadata": {
    "tags": []
   },
   "outputs": [
    {
     "name": "stdout",
     "output_type": "stream",
     "text": [
      "pet_names_by_type['dog'] = ['Max', 'Cooper', 'Buddy', 'Bear', 'Teddy', 'Duke']\n"
     ]
    }
   ],
   "source": [
    "pet_names_by_type = {}\n",
    "\n",
    "for pet_type, pet_name in pets:\n",
    "    pet_names_by_type.setdefault(pet_type, []).append(pet_name)\n",
    "\n",
    "print(f\"{pet_names_by_type['dog'] = }\")"
   ]
  }
 ],
 "metadata": {
  "kernelspec": {
   "display_name": "main",
   "language": "python",
   "name": "main"
  },
  "language_info": {
   "codemirror_mode": {
    "name": "ipython",
    "version": 3
   },
   "file_extension": ".py",
   "mimetype": "text/x-python",
   "name": "python",
   "nbconvert_exporter": "python",
   "pygments_lexer": "ipython3",
   "version": "3.10.2"
  }
 },
 "nbformat": 4,
 "nbformat_minor": 5
}
