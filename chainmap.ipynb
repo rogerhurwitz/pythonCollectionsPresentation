{
 "cells": [
  {
   "cell_type": "markdown",
   "id": "441a91fb-9d29-4028-a58e-f50bfed08d86",
   "metadata": {
    "tags": []
   },
   "source": [
    "# Scope-Based Lookup"
   ]
  },
  {
   "cell_type": "code",
   "execution_count": 3,
   "id": "028969a2-ffc5-4a52-93f8-d30aee34abc5",
   "metadata": {
    "tags": []
   },
   "outputs": [
    {
     "name": "stdout",
     "output_type": "stream",
     "text": [
      "member_prices['Wine'] = 3.64\n",
      "member_prices['Butter'] = 1.49\n",
      "member_prices['Bread'] = 2.99\n"
     ]
    }
   ],
   "source": [
    "from collections import ChainMap\n",
    "\n",
    "member_specials = {\n",
    "    \"Chicken\": 6.79,\n",
    "    \"Wine\": 3.64,        \n",
    "}\n",
    "monthly_specials = {\n",
    "    \"Butter\": 1.49,\n",
    "    \"Wine\": 4.64,        \n",
    "}\n",
    "regular_prices = {\n",
    "    \"Butter\": 1.99,\n",
    "    \"Chicken\": 8.79,\n",
    "    \"Wine\": 5.64,\n",
    "    \"Bread\": 2.99,\n",
    "}\n",
    "\n",
    "member_prices = ChainMap(member_specials, monthly_specials, regular_prices)\n",
    "\n",
    "print(f\"{member_prices['Wine'] = }\")\n",
    "print(f\"{member_prices['Butter'] = }\")\n",
    "print(f\"{member_prices['Bread'] = }\")"
   ]
  },
  {
   "cell_type": "markdown",
   "id": "45e7277e-d966-4e89-8370-239b4e412146",
   "metadata": {},
   "source": [
    "# Shortcut for Skipping First Mapping"
   ]
  },
  {
   "cell_type": "code",
   "execution_count": 5,
   "id": "6a1fa0ec-937a-4445-b67f-110a548c4bb4",
   "metadata": {
    "tags": []
   },
   "outputs": [
    {
     "name": "stdout",
     "output_type": "stream",
     "text": [
      "nonmember_prices['Wine'] = 4.64\n",
      "nonmember_prices['Butter'] = 1.49\n",
      "nonmember_prices['Bread'] = 2.99\n"
     ]
    }
   ],
   "source": [
    "nonmember_prices = member_prices.parents\n",
    "\n",
    "print(f\"{nonmember_prices['Wine'] = }\")\n",
    "print(f\"{nonmember_prices['Butter'] = }\")\n",
    "print(f\"{nonmember_prices['Bread'] = }\")"
   ]
  }
 ],
 "metadata": {
  "kernelspec": {
   "display_name": "Python 3 (ipykernel)",
   "language": "python",
   "name": "python3"
  },
  "language_info": {
   "codemirror_mode": {
    "name": "ipython",
    "version": 3
   },
   "file_extension": ".py",
   "mimetype": "text/x-python",
   "name": "python",
   "nbconvert_exporter": "python",
   "pygments_lexer": "ipython3",
   "version": "3.11.1"
  }
 },
 "nbformat": 4,
 "nbformat_minor": 5
}
