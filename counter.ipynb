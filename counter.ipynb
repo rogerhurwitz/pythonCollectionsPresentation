{
 "cells": [
  {
   "cell_type": "markdown",
   "id": "4d827bd1-3794-478c-b8e4-c63b19f86429",
   "metadata": {
    "tags": []
   },
   "source": [
    "# Base Case: Count the Elements in an Iterable"
   ]
  },
  {
   "cell_type": "code",
   "execution_count": 1,
   "id": "ccf71935-e137-42b7-b458-fbda20dec925",
   "metadata": {
    "tags": []
   },
   "outputs": [
    {
     "name": "stdout",
     "output_type": "stream",
     "text": [
      "coinflip_cnt = Counter({'tails': 59, 'heads': 41})\n"
     ]
    }
   ],
   "source": [
    "from collections import Counter\n",
    "import random\n",
    "\n",
    "# create a list of random coin flip results\n",
    "coinflip_outcomes = [\"heads\", \"tails\"]\n",
    "coinflips = random.choices(coinflip_outcomes, k=100)\n",
    "\n",
    "\n",
    "coinflip_cnt = Counter(coinflips)\n",
    "print(f\"{coinflip_cnt = }\")"
   ]
  },
  {
   "cell_type": "markdown",
   "id": "6a14e738-d0ee-4d8b-b9bc-1dce1ee93fd7",
   "metadata": {
    "tags": []
   },
   "source": [
    "# Next Level: Slice and Dice the Results"
   ]
  },
  {
   "cell_type": "code",
   "execution_count": 2,
   "id": "d10b20b5-c85c-4c78-ae91-054e6a0c4dea",
   "metadata": {
    "tags": []
   },
   "outputs": [
    {
     "name": "stdout",
     "output_type": "stream",
     "text": [
      "coinflip_cnt.most_common(1) = [('tails', 59)]\n",
      "coinflip_cnt.total() = 100\n",
      "[elem for elem in coinflip_cnt.elements()] = ['tails', 'tails', 'tails', 'tails', 'tails', 'tails', 'tails', 'tails', 'tails', 'tails', 'tails', 'tails', 'tails', 'tails', 'tails', 'tails', 'tails', 'tails', 'tails', 'tails', 'tails', 'tails', 'tails', 'tails', 'tails', 'tails', 'tails', 'tails', 'tails', 'tails', 'tails', 'tails', 'tails', 'tails', 'tails', 'tails', 'tails', 'tails', 'tails', 'tails', 'tails', 'tails', 'tails', 'tails', 'tails', 'tails', 'tails', 'tails', 'tails', 'tails', 'tails', 'tails', 'tails', 'tails', 'tails', 'tails', 'tails', 'tails', 'tails', 'heads', 'heads', 'heads', 'heads', 'heads', 'heads', 'heads', 'heads', 'heads', 'heads', 'heads', 'heads', 'heads', 'heads', 'heads', 'heads', 'heads', 'heads', 'heads', 'heads', 'heads', 'heads', 'heads', 'heads', 'heads', 'heads', 'heads', 'heads', 'heads', 'heads', 'heads', 'heads', 'heads', 'heads', 'heads', 'heads', 'heads', 'heads', 'heads', 'heads', 'heads']\n",
      "coinflip_cnt['edges'] = 0\n"
     ]
    }
   ],
   "source": [
    "print(f\"{coinflip_cnt.most_common(1) = }\")\n",
    "print(f\"{coinflip_cnt.total() = }\")\n",
    "print(f\"{[elem for elem in coinflip_cnt.elements()] = }\")\n",
    "print(f\"{coinflip_cnt['edges'] = }\")"
   ]
  },
  {
   "cell_type": "code",
   "execution_count": null,
   "id": "aca2de61-d63b-4c00-a49a-8b9064a6e453",
   "metadata": {},
   "outputs": [],
   "source": []
  }
 ],
 "metadata": {
  "kernelspec": {
   "display_name": "Python 3 (ipykernel)",
   "language": "python",
   "name": "python3"
  },
  "language_info": {
   "codemirror_mode": {
    "name": "ipython",
    "version": 3
   },
   "file_extension": ".py",
   "mimetype": "text/x-python",
   "name": "python",
   "nbconvert_exporter": "python",
   "pygments_lexer": "ipython3",
   "version": "3.11.1"
  }
 },
 "nbformat": 4,
 "nbformat_minor": 5
}
