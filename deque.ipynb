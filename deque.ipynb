{
 "cells": [
  {
   "cell_type": "markdown",
   "id": "ddbd1adc-df13-4f59-8702-e97385f9c1d0",
   "metadata": {},
   "source": [
    "# The name of the game is \"speed\""
   ]
  },
  {
   "cell_type": "code",
   "execution_count": 1,
   "id": "598fe5b7-9a6f-498f-9838-4437e2a75504",
   "metadata": {
    "tags": []
   },
   "outputs": [],
   "source": [
    "from collections import deque"
   ]
  },
  {
   "cell_type": "code",
   "execution_count": 9,
   "id": "9c1f90c6-195a-4510-9618-0d8d1cec61bc",
   "metadata": {
    "tags": []
   },
   "outputs": [
    {
     "name": "stdout",
     "output_type": "stream",
     "text": [
      "CPU times: total: 1.55 s\n",
      "Wall time: 1.54 s\n"
     ]
    }
   ],
   "source": [
    "%%time\n",
    "dq = deque()\n",
    "for x in range(10_000_000):\n",
    "    dq.append(x)\n",
    "    dq.pop()"
   ]
  },
  {
   "cell_type": "code",
   "execution_count": 10,
   "id": "0ef4c00c-5bc4-48ae-b13b-c9ded1d9da89",
   "metadata": {
    "tags": []
   },
   "outputs": [
    {
     "name": "stdout",
     "output_type": "stream",
     "text": [
      "CPU times: total: 4.36 s\n",
      "Wall time: 4.38 s\n"
     ]
    }
   ],
   "source": [
    "%%time\n",
    "a = list()\n",
    "for x in range(10_000_000):\n",
    "    a.append(x)\n",
    "    a.pop()"
   ]
  },
  {
   "cell_type": "markdown",
   "id": "403b9a03-182f-4372-b244-ddd3beb8cce3",
   "metadata": {
    "tags": []
   },
   "source": [
    "# ...but there's more"
   ]
  },
  {
   "cell_type": "code",
   "execution_count": 14,
   "id": "8eed54ea-eb3d-4594-9360-9d01be261a9c",
   "metadata": {
    "tags": []
   },
   "outputs": [
    {
     "name": "stdout",
     "output_type": "stream",
     "text": [
      "dq = deque([90, 91, 92, 93, 94, 95, 96, 97, 98, 99], maxlen=10)\n"
     ]
    }
   ],
   "source": [
    "# maxlen makes circular buffers easy\n",
    "dq = deque(maxlen=10)\n",
    "for x in range(100):\n",
    "    dq.append(x)\n",
    "print(f\"{dq = }\")"
   ]
  },
  {
   "cell_type": "code",
   "execution_count": 41,
   "id": "9aefcf66-612a-4ae8-9741-86dbc05c2ce3",
   "metadata": {
    "tags": []
   },
   "outputs": [
    {
     "name": "stdout",
     "output_type": "stream",
     "text": [
      "1 2 "
     ]
    }
   ],
   "source": [
    "# more readable queue (FIFO) syntax\n",
    "dq = deque()\n",
    "dq.appendleft(1)  # versus a.insert(0, 1)\n",
    "dq.appendleft(2)  # versus a.insert(0, 2)\n",
    "while dq:\n",
    "    print(dq.pop(), end=\" \")"
   ]
  }
 ],
 "metadata": {
  "kernelspec": {
   "display_name": "main",
   "language": "python",
   "name": "main"
  },
  "language_info": {
   "codemirror_mode": {
    "name": "ipython",
    "version": 3
   },
   "file_extension": ".py",
   "mimetype": "text/x-python",
   "name": "python",
   "nbconvert_exporter": "python",
   "pygments_lexer": "ipython3",
   "version": "3.10.2"
  }
 },
 "nbformat": 4,
 "nbformat_minor": 5
}
