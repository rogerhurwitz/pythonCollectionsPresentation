{
 "cells": [
  {
   "cell_type": "markdown",
   "id": "f98654d7-b280-4d32-8ebc-b9fc0c02d446",
   "metadata": {},
   "source": [
    "# In Python 3.6 `dict` Found Order"
   ]
  },
  {
   "cell_type": "code",
   "execution_count": 30,
   "id": "e1b796f8-0ec5-4ec7-bb20-c0ff983831fd",
   "metadata": {
    "tags": []
   },
   "outputs": [
    {
     "name": "stdout",
     "output_type": "stream",
     "text": [
      "('a', 'a') ('b', 'b') ('c', 'c') ('d', 'd') ('e', 'e') ('f', 'f') "
     ]
    }
   ],
   "source": [
    "from collections import OrderedDict\n",
    "\n",
    "ordered_dict = OrderedDict.fromkeys(\"abcdef\")\n",
    "regular_dict = dict.fromkeys(\"abcdef\")\n",
    "\n",
    "for keys in zip(ordered_dict, regular_dict):\n",
    "    print(keys, end=\" \")"
   ]
  },
  {
   "cell_type": "markdown",
   "id": "9c02aabe-f1a1-4595-9247-83f6849909df",
   "metadata": {
    "tags": []
   },
   "source": [
    "# Equality: `OrderedDict` vs `dict`"
   ]
  },
  {
   "cell_type": "code",
   "execution_count": 28,
   "id": "7769a414-b6ee-4f6e-9f91-901a6c75ec29",
   "metadata": {
    "tags": []
   },
   "outputs": [
    {
     "name": "stdout",
     "output_type": "stream",
     "text": [
      "ordered_dict_a == ordered_dict_b = False\n"
     ]
    }
   ],
   "source": [
    "ordered_dict_a = OrderedDict.fromkeys(\"abcdef\")\n",
    "ordered_dict_b = OrderedDict.fromkeys(\"bacdef\")\n",
    "\n",
    "print(f\"{ordered_dict_a == ordered_dict_b = }\")"
   ]
  },
  {
   "cell_type": "code",
   "execution_count": 29,
   "id": "ef5ac786-4c1e-4b26-8885-61358acd3825",
   "metadata": {
    "tags": []
   },
   "outputs": [
    {
     "name": "stdout",
     "output_type": "stream",
     "text": [
      "regular_dict_a == regular_dict_b = True\n"
     ]
    }
   ],
   "source": [
    "regular_dict_a = dict.fromkeys(\"abcdef\")\n",
    "regular_dict_b = dict.fromkeys(\"bacdef\")\n",
    "\n",
    "print(f\"{regular_dict_a == regular_dict_b = }\")"
   ]
  },
  {
   "cell_type": "markdown",
   "id": "193a8cbf-05df-4725-ba75-f28e6d53cab3",
   "metadata": {},
   "source": [
    "# Reordering Flexibility/Efficiency"
   ]
  },
  {
   "cell_type": "code",
   "execution_count": 32,
   "id": "248a4445-f65b-4909-94db-3f7f0096d035",
   "metadata": {
    "tags": []
   },
   "outputs": [
    {
     "name": "stdout",
     "output_type": "stream",
     "text": [
      "f a b c d e "
     ]
    }
   ],
   "source": [
    "ordered_dict = OrderedDict.fromkeys(\"abcdef\")\n",
    "\n",
    "ordered_dict.move_to_end(\"f\", last=False)\n",
    "for key in ordered_dict:\n",
    "    print(key, end=\" \")"
   ]
  }
 ],
 "metadata": {
  "kernelspec": {
   "display_name": "Python 3 (ipykernel)",
   "language": "python",
   "name": "python3"
  },
  "language_info": {
   "codemirror_mode": {
    "name": "ipython",
    "version": 3
   },
   "file_extension": ".py",
   "mimetype": "text/x-python",
   "name": "python",
   "nbconvert_exporter": "python",
   "pygments_lexer": "ipython3",
   "version": "3.11.1"
  }
 },
 "nbformat": 4,
 "nbformat_minor": 5
}
