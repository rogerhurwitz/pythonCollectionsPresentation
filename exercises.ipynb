{
 "cells": [
  {
   "cell_type": "markdown",
   "id": "aa14a733-a2d3-4cb4-ba52-50dce514e2f5",
   "metadata": {},
   "source": [
    "# Exercise 0: Execute this on your computer"
   ]
  },
  {
   "cell_type": "code",
   "execution_count": 6,
   "id": "88caf8d5-ba21-4089-82c0-0736b42fe782",
   "metadata": {
    "tags": []
   },
   "outputs": [
    {
     "name": "stdout",
     "output_type": "stream",
     "text": [
      "customers[0] = ('1', 'Male', '19', '15000', '39', 'Healthcare', '1', '4')\n"
     ]
    }
   ],
   "source": [
    "import csv\n",
    "\n",
    "with open(\"Customers.csv\", newline=\"\") as csvfile:\n",
    "    customer_reader = csv.reader(csvfile)\n",
    "    headers = next(customer_reader)\n",
    "    customers = [\n",
    "        tuple(row)\n",
    "        for row in customer_reader\n",
    "    ]\n",
    "        \n",
    "print(f\"{customers[0] = }\")"
   ]
  },
  {
   "cell_type": "markdown",
   "id": "57c2466a-b437-49f8-96c3-c51de93d764e",
   "metadata": {
    "tags": []
   },
   "source": [
    "# Exercise 1: Replace use of `tuple` with `namedtuple` to enhance readability"
   ]
  },
  {
   "cell_type": "code",
   "execution_count": null,
   "id": "fe51b2b3-5e1f-4ab1-bd31-65500c84fe53",
   "metadata": {
    "tags": []
   },
   "outputs": [],
   "source": []
  },
  {
   "cell_type": "markdown",
   "id": "2306b00c-889c-49e0-92a9-5da7e620f0f1",
   "metadata": {
    "tags": []
   },
   "source": [
    "# Exercise 2: Use `Counter` and show the three most common customer professions"
   ]
  },
  {
   "cell_type": "code",
   "execution_count": null,
   "id": "cce23753-7dec-4912-8068-cc5f524e576b",
   "metadata": {
    "tags": []
   },
   "outputs": [],
   "source": []
  },
  {
   "cell_type": "markdown",
   "id": "a92d635d-64e6-4d7f-b436-9ce4b60d3e48",
   "metadata": {},
   "source": [
    "# Exercise 3: Clean this code using collections module"
   ]
  },
  {
   "cell_type": "code",
   "execution_count": 5,
   "id": "d9f4ffd2-4b83-43cd-b606-c91b14626ab4",
   "metadata": {
    "tags": []
   },
   "outputs": [
    {
     "name": "stdout",
     "output_type": "stream",
     "text": [
      "{'Healthcare': {'Male': 143, 'Female': 196}, 'Engineer': {'Male': 76, 'Female': 103}, 'Lawyer': {'Female': 86, 'Male': 56}, 'Entertainment': {'Female': 133, 'Male': 101}, 'Artist': {'Female': 380, 'Male': 232}, 'Executive': {'Female': 87, 'Male': 66}, 'Doctor': {'Male': 72, 'Female': 89}, 'Homemaker': {'Female': 39, 'Male': 21}, 'Marketing': {'Female': 53, 'Male': 32}, '': {'Female': 20, 'Male': 15}}\n"
     ]
    }
   ],
   "source": [
    "from collections import namedtuple\n",
    "import csv\n",
    "\n",
    "with open(\"Customers.csv\", newline=\"\") as csvfile:\n",
    "    customer_reader = csv.reader(csvfile)\n",
    "    headers = next(customer_reader)\n",
    "    \n",
    "    Customer = namedtuple(\"Customer\", headers)\n",
    "    \n",
    "    genders_by_profession = {}\n",
    "    \n",
    "    for row in customer_reader:\n",
    "        customer = Customer(*row)\n",
    "        \n",
    "        if genders_by_profession.get(customer.profession) is None:\n",
    "            genders_by_profession[customer.profession] = {}\n",
    "\n",
    "        if genders_by_profession[customer.profession].get(customer.gender) is None:\n",
    "            genders_by_profession[customer.profession][customer.gender] = 1\n",
    "        else:\n",
    "            genders_by_profession[customer.profession][customer.gender] += 1\n",
    "                \n",
    "print(genders_by_profession)"
   ]
  }
 ],
 "metadata": {
  "kernelspec": {
   "display_name": "Python 3 (ipykernel)",
   "language": "python",
   "name": "python3"
  },
  "language_info": {
   "codemirror_mode": {
    "name": "ipython",
    "version": 3
   },
   "file_extension": ".py",
   "mimetype": "text/x-python",
   "name": "python",
   "nbconvert_exporter": "python",
   "pygments_lexer": "ipython3",
   "version": "3.11.1"
  }
 },
 "nbformat": 4,
 "nbformat_minor": 5
}
